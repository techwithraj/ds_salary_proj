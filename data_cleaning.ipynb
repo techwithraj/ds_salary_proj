{
 "cells": [
  {
   "cell_type": "code",
   "execution_count": 1,
   "metadata": {},
   "outputs": [],
   "source": [
    "import pandas as pd"
   ]
  },
  {
   "cell_type": "code",
   "execution_count": 3,
   "metadata": {},
   "outputs": [],
   "source": [
    "df = pd.read_csv(r\"C:\\Users\\ERP80\\Documents\\ds_salary_proj\\glassdoor_jobs.csv\", index_col = None, header=0)"
   ]
  },
  {
   "cell_type": "code",
   "execution_count": 4,
   "metadata": {},
   "outputs": [],
   "source": [
    "# Salary Parsing"
   ]
  },
  {
   "cell_type": "code",
   "execution_count": 5,
   "metadata": {},
   "outputs": [],
   "source": [
    "df['hourly'] = df['Salary Estimate'].apply(lambda x: 1 if 'per hour' in x.lower() else 0)\n",
    "df['employer_provided'] = df['Salary Estimate'].apply(lambda x: 1 if 'employer provided salary:' in x.lower() else 0)"
   ]
  },
  {
   "cell_type": "code",
   "execution_count": 6,
   "metadata": {},
   "outputs": [],
   "source": [
    "df = df[df['Salary Estimate'] != '-1']\n",
    "salary = df['Salary Estimate'].apply(lambda x: x.split('(')[0])\n",
    "minus_Kd = salary.apply(lambda x: x.replace('K','').replace('$','').replace('CA',''))"
   ]
  },
  {
   "cell_type": "code",
   "execution_count": 7,
   "metadata": {},
   "outputs": [],
   "source": [
    "min_hr = minus_Kd.apply(lambda x: x.lower().replace('per hour','').replace('employer provided salary:',''))"
   ]
  },
  {
   "cell_type": "code",
   "execution_count": 8,
   "metadata": {},
   "outputs": [],
   "source": [
    "df['min_salary'] = min_hr.apply(lambda x: int(x.split('-')[0]))\n",
    "df['max_salary'] = min_hr.apply(lambda x: int(x.split('-')[1]))\n",
    "df['avg_salary'] = (df.min_salary+df.max_salary)/2"
   ]
  },
  {
   "cell_type": "code",
   "execution_count": 9,
   "metadata": {},
   "outputs": [],
   "source": [
    "#Company name text only"
   ]
  },
  {
   "cell_type": "code",
   "execution_count": 10,
   "metadata": {},
   "outputs": [],
   "source": [
    "df['company_txt'] = df.apply(lambda x: x['Company Name'] if x['Rating'] <0 else x['Company Name'][:-3], axis = 1)"
   ]
  },
  {
   "cell_type": "code",
   "execution_count": 11,
   "metadata": {},
   "outputs": [],
   "source": [
    "#state field \n"
   ]
  },
  {
   "cell_type": "code",
   "execution_count": 12,
   "metadata": {},
   "outputs": [
    {
     "data": {
      "text/plain": [
       "Toronto            23\n",
       "Montreal           19\n",
       "Vancouver          11\n",
       "Ottawa              9\n",
       "Mississauga         4\n",
       "Calgary             4\n",
       "Canada              3\n",
       "Waterloo            3\n",
       "Edmonton            3\n",
       "Brampton            2\n",
       "Markham             2\n",
       "Oakville            2\n",
       "Thorold             1\n",
       "Dieppe              1\n",
       "North Vancouver     1\n",
       "Uxbridge            1\n",
       "North York          1\n",
       "Kingston            1\n",
       "Woodbridge          1\n",
       "Saint-Laurent       1\n",
       "Don Mills           1\n",
       "Winnipeg            1\n",
       "Remote              1\n",
       "Victoria            1\n",
       "Moncton             1\n",
       "St. Jacobs          1\n",
       "St. John's          1\n",
       "Name: job_state, dtype: int64"
      ]
     },
     "execution_count": 12,
     "metadata": {},
     "output_type": "execute_result"
    }
   ],
   "source": [
    "df['job_state'] = df['Location'].apply(lambda x: x.split(',')[0])\n",
    "df.job_state.value_counts()"
   ]
  },
  {
   "cell_type": "code",
   "execution_count": 13,
   "metadata": {},
   "outputs": [],
   "source": [
    "df['same_state'] = df.apply(lambda x: 1 if x.Location == x.Headquarters else 0, axis = 1)"
   ]
  },
  {
   "cell_type": "code",
   "execution_count": 14,
   "metadata": {},
   "outputs": [],
   "source": [
    "#age of company "
   ]
  },
  {
   "cell_type": "code",
   "execution_count": 15,
   "metadata": {},
   "outputs": [],
   "source": [
    "df['age'] = df.Founded.apply(lambda x: x if x <1 else 2020 - x)"
   ]
  },
  {
   "cell_type": "code",
   "execution_count": 16,
   "metadata": {},
   "outputs": [],
   "source": [
    "#parsing of job description (python, etc.)"
   ]
  },
  {
   "cell_type": "code",
   "execution_count": 17,
   "metadata": {},
   "outputs": [],
   "source": [
    "#python"
   ]
  },
  {
   "cell_type": "code",
   "execution_count": 18,
   "metadata": {},
   "outputs": [],
   "source": [
    "df['python_yn'] = df['Job Description'].apply(lambda x: 1 if 'python' in x.lower() else 0)"
   ]
  },
  {
   "cell_type": "code",
   "execution_count": 19,
   "metadata": {},
   "outputs": [],
   "source": [
    "#r studio "
   ]
  },
  {
   "cell_type": "code",
   "execution_count": 20,
   "metadata": {},
   "outputs": [
    {
     "data": {
      "text/plain": [
       "0    100\n",
       "Name: R_yn, dtype: int64"
      ]
     },
     "execution_count": 20,
     "metadata": {},
     "output_type": "execute_result"
    }
   ],
   "source": [
    "df['R_yn'] = df['Job Description'].apply(lambda x: 1 if 'r studio' in x.lower() or 'r-studio' in x.lower() else 0)\n",
    "df.R_yn.value_counts()"
   ]
  },
  {
   "cell_type": "code",
   "execution_count": 21,
   "metadata": {},
   "outputs": [],
   "source": [
    "#spark "
   ]
  },
  {
   "cell_type": "code",
   "execution_count": 22,
   "metadata": {},
   "outputs": [
    {
     "data": {
      "text/plain": [
       "0    60\n",
       "1    40\n",
       "Name: spark, dtype: int64"
      ]
     },
     "execution_count": 22,
     "metadata": {},
     "output_type": "execute_result"
    }
   ],
   "source": [
    "df['spark'] = df['Job Description'].apply(lambda x: 1 if 'spark' in x.lower() else 0)\n",
    "df.spark.value_counts()"
   ]
  },
  {
   "cell_type": "code",
   "execution_count": 23,
   "metadata": {},
   "outputs": [],
   "source": [
    "#aws "
   ]
  },
  {
   "cell_type": "code",
   "execution_count": 24,
   "metadata": {},
   "outputs": [
    {
     "data": {
      "text/plain": [
       "0    82\n",
       "1    18\n",
       "Name: aws, dtype: int64"
      ]
     },
     "execution_count": 24,
     "metadata": {},
     "output_type": "execute_result"
    }
   ],
   "source": [
    "df['aws'] = df['Job Description'].apply(lambda x: 1 if 'aws' in x.lower() else 0)\n",
    "df.aws.value_counts()"
   ]
  },
  {
   "cell_type": "code",
   "execution_count": 25,
   "metadata": {},
   "outputs": [],
   "source": [
    "#excel"
   ]
  },
  {
   "cell_type": "code",
   "execution_count": 26,
   "metadata": {},
   "outputs": [
    {
     "data": {
      "text/plain": [
       "0    54\n",
       "1    46\n",
       "Name: excel, dtype: int64"
      ]
     },
     "execution_count": 26,
     "metadata": {},
     "output_type": "execute_result"
    }
   ],
   "source": [
    "df['excel'] = df['Job Description'].apply(lambda x: 1 if 'excel' in x.lower() else 0)\n",
    "df.excel.value_counts()"
   ]
  },
  {
   "cell_type": "code",
   "execution_count": 27,
   "metadata": {},
   "outputs": [
    {
     "data": {
      "text/plain": [
       "Index(['Job Title', 'Salary Estimate', 'Job Description', 'Rating',\n",
       "       'Company Name', 'Location', 'Headquarters', 'Size', 'Founded',\n",
       "       'Type of ownership', 'Industry', 'Sector', 'Revenue', 'Competitors',\n",
       "       'hourly', 'employer_provided', 'min_salary', 'max_salary', 'avg_salary',\n",
       "       'company_txt', 'job_state', 'same_state', 'age', 'python_yn', 'R_yn',\n",
       "       'spark', 'aws', 'excel'],\n",
       "      dtype='object')"
      ]
     },
     "execution_count": 27,
     "metadata": {},
     "output_type": "execute_result"
    }
   ],
   "source": [
    "df.columns"
   ]
  },
  {
   "cell_type": "code",
   "execution_count": 28,
   "metadata": {},
   "outputs": [],
   "source": [
    "#df_out = df.drop(['Job Description'],axis = 1)"
   ]
  },
  {
   "cell_type": "code",
   "execution_count": 36,
   "metadata": {},
   "outputs": [
    {
     "data": {
      "text/plain": [
       "Index(['Job Title', 'Salary Estimate', 'Job Description', 'Rating',\n",
       "       'Company Name', 'Location', 'Headquarters', 'Size', 'Founded',\n",
       "       'Type of ownership', 'Industry', 'Sector', 'Revenue', 'Competitors',\n",
       "       'hourly', 'employer_provided', 'min_salary', 'max_salary', 'avg_salary',\n",
       "       'company_txt', 'job_state', 'same_state', 'age', 'python_yn', 'R_yn',\n",
       "       'spark', 'aws', 'excel'],\n",
       "      dtype='object')"
      ]
     },
     "execution_count": 36,
     "metadata": {},
     "output_type": "execute_result"
    }
   ],
   "source": [
    "df.columns"
   ]
  },
  {
   "cell_type": "code",
   "execution_count": 37,
   "metadata": {},
   "outputs": [],
   "source": [
    "df_out.to_csv(r\"C:\\Users\\ERP80\\Documents\\ds_salary_proj\\salary_data_cleaned.csv\",index = False)"
   ]
  },
  {
   "cell_type": "code",
   "execution_count": 38,
   "metadata": {},
   "outputs": [
    {
     "data": {
      "text/html": [
       "<div>\n",
       "<style scoped>\n",
       "    .dataframe tbody tr th:only-of-type {\n",
       "        vertical-align: middle;\n",
       "    }\n",
       "\n",
       "    .dataframe tbody tr th {\n",
       "        vertical-align: top;\n",
       "    }\n",
       "\n",
       "    .dataframe thead th {\n",
       "        text-align: right;\n",
       "    }\n",
       "</style>\n",
       "<table border=\"1\" class=\"dataframe\">\n",
       "  <thead>\n",
       "    <tr style=\"text-align: right;\">\n",
       "      <th></th>\n",
       "      <th>Job Title</th>\n",
       "      <th>Salary Estimate</th>\n",
       "      <th>Rating</th>\n",
       "      <th>Company Name</th>\n",
       "      <th>Location</th>\n",
       "      <th>Headquarters</th>\n",
       "      <th>Size</th>\n",
       "      <th>Founded</th>\n",
       "      <th>Type of ownership</th>\n",
       "      <th>Industry</th>\n",
       "      <th>...</th>\n",
       "      <th>avg_salary</th>\n",
       "      <th>company_txt</th>\n",
       "      <th>job_state</th>\n",
       "      <th>same_state</th>\n",
       "      <th>age</th>\n",
       "      <th>python_yn</th>\n",
       "      <th>R_yn</th>\n",
       "      <th>spark</th>\n",
       "      <th>aws</th>\n",
       "      <th>excel</th>\n",
       "    </tr>\n",
       "  </thead>\n",
       "  <tbody>\n",
       "    <tr>\n",
       "      <th>0</th>\n",
       "      <td>Staff Data Scientist</td>\n",
       "      <td>CA$73K-CA$100K (Glassdoor Est.)</td>\n",
       "      <td>2.7</td>\n",
       "      <td>realtor.com\\n2.7</td>\n",
       "      <td>Vancouver</td>\n",
       "      <td>Santa Clara, CA</td>\n",
       "      <td>1001 to 5000 employees</td>\n",
       "      <td>1993</td>\n",
       "      <td>Company - Private</td>\n",
       "      <td>Internet</td>\n",
       "      <td>...</td>\n",
       "      <td>86.5</td>\n",
       "      <td>realtor.com\\n</td>\n",
       "      <td>Vancouver</td>\n",
       "      <td>0</td>\n",
       "      <td>27</td>\n",
       "      <td>1</td>\n",
       "      <td>0</td>\n",
       "      <td>1</td>\n",
       "      <td>0</td>\n",
       "      <td>1</td>\n",
       "    </tr>\n",
       "    <tr>\n",
       "      <th>1</th>\n",
       "      <td>Senior Data Analyst</td>\n",
       "      <td>CA$73K-CA$100K (Glassdoor Est.)</td>\n",
       "      <td>3.4</td>\n",
       "      <td>Teranet\\n3.4</td>\n",
       "      <td>Toronto</td>\n",
       "      <td>Toronto, Canada</td>\n",
       "      <td>501 to 1000 employees</td>\n",
       "      <td>1991</td>\n",
       "      <td>Company - Private</td>\n",
       "      <td>Computer Hardware &amp; Software</td>\n",
       "      <td>...</td>\n",
       "      <td>86.5</td>\n",
       "      <td>Teranet\\n</td>\n",
       "      <td>Toronto</td>\n",
       "      <td>0</td>\n",
       "      <td>29</td>\n",
       "      <td>1</td>\n",
       "      <td>0</td>\n",
       "      <td>0</td>\n",
       "      <td>0</td>\n",
       "      <td>0</td>\n",
       "    </tr>\n",
       "    <tr>\n",
       "      <th>2</th>\n",
       "      <td>Game Data Scientist</td>\n",
       "      <td>CA$73K-CA$100K (Glassdoor Est.)</td>\n",
       "      <td>4.4</td>\n",
       "      <td>Prodigy Game\\n4.4</td>\n",
       "      <td>Oakville</td>\n",
       "      <td>Oakville, Canada</td>\n",
       "      <td>201 to 500 employees</td>\n",
       "      <td>2011</td>\n",
       "      <td>Company - Private</td>\n",
       "      <td>Computer Hardware &amp; Software</td>\n",
       "      <td>...</td>\n",
       "      <td>86.5</td>\n",
       "      <td>Prodigy Game\\n</td>\n",
       "      <td>Oakville</td>\n",
       "      <td>0</td>\n",
       "      <td>9</td>\n",
       "      <td>1</td>\n",
       "      <td>0</td>\n",
       "      <td>1</td>\n",
       "      <td>1</td>\n",
       "      <td>0</td>\n",
       "    </tr>\n",
       "    <tr>\n",
       "      <th>3</th>\n",
       "      <td>Data Engineer/Backend Developer</td>\n",
       "      <td>CA$73K-CA$100K (Glassdoor Est.)</td>\n",
       "      <td>-1.0</td>\n",
       "      <td>Label Engine</td>\n",
       "      <td>Vancouver</td>\n",
       "      <td>Los Angeles, CA</td>\n",
       "      <td>51 to 200 employees</td>\n",
       "      <td>-1</td>\n",
       "      <td>Company - Private</td>\n",
       "      <td>-1</td>\n",
       "      <td>...</td>\n",
       "      <td>86.5</td>\n",
       "      <td>Label Engine</td>\n",
       "      <td>Vancouver</td>\n",
       "      <td>0</td>\n",
       "      <td>-1</td>\n",
       "      <td>1</td>\n",
       "      <td>0</td>\n",
       "      <td>0</td>\n",
       "      <td>1</td>\n",
       "      <td>1</td>\n",
       "    </tr>\n",
       "    <tr>\n",
       "      <th>4</th>\n",
       "      <td>Data Scientist</td>\n",
       "      <td>CA$73K-CA$100K (Glassdoor Est.)</td>\n",
       "      <td>3.1</td>\n",
       "      <td>Home Trust\\n3.1</td>\n",
       "      <td>Toronto</td>\n",
       "      <td>Toronto, Canada</td>\n",
       "      <td>501 to 1000 employees</td>\n",
       "      <td>1977</td>\n",
       "      <td>Company - Public</td>\n",
       "      <td>Lending</td>\n",
       "      <td>...</td>\n",
       "      <td>86.5</td>\n",
       "      <td>Home Trust\\n</td>\n",
       "      <td>Toronto</td>\n",
       "      <td>0</td>\n",
       "      <td>43</td>\n",
       "      <td>1</td>\n",
       "      <td>0</td>\n",
       "      <td>1</td>\n",
       "      <td>0</td>\n",
       "      <td>1</td>\n",
       "    </tr>\n",
       "    <tr>\n",
       "      <th>...</th>\n",
       "      <td>...</td>\n",
       "      <td>...</td>\n",
       "      <td>...</td>\n",
       "      <td>...</td>\n",
       "      <td>...</td>\n",
       "      <td>...</td>\n",
       "      <td>...</td>\n",
       "      <td>...</td>\n",
       "      <td>...</td>\n",
       "      <td>...</td>\n",
       "      <td>...</td>\n",
       "      <td>...</td>\n",
       "      <td>...</td>\n",
       "      <td>...</td>\n",
       "      <td>...</td>\n",
       "      <td>...</td>\n",
       "      <td>...</td>\n",
       "      <td>...</td>\n",
       "      <td>...</td>\n",
       "      <td>...</td>\n",
       "      <td>...</td>\n",
       "    </tr>\n",
       "    <tr>\n",
       "      <th>95</th>\n",
       "      <td>Scientist</td>\n",
       "      <td>CA$116K-CA$162K (Glassdoor Est.)</td>\n",
       "      <td>4.1</td>\n",
       "      <td>SickKids\\n4.1</td>\n",
       "      <td>Toronto</td>\n",
       "      <td>Toronto, Canada</td>\n",
       "      <td>5001 to 10000 employees</td>\n",
       "      <td>1875</td>\n",
       "      <td>Company - Public</td>\n",
       "      <td>Healthcare Services &amp; Hospitals</td>\n",
       "      <td>...</td>\n",
       "      <td>139.0</td>\n",
       "      <td>SickKids\\n</td>\n",
       "      <td>Toronto</td>\n",
       "      <td>0</td>\n",
       "      <td>145</td>\n",
       "      <td>0</td>\n",
       "      <td>0</td>\n",
       "      <td>0</td>\n",
       "      <td>0</td>\n",
       "      <td>1</td>\n",
       "    </tr>\n",
       "    <tr>\n",
       "      <th>96</th>\n",
       "      <td>Senior Research Associate/Data Collection Cons...</td>\n",
       "      <td>CA$116K-CA$162K (Glassdoor Est.)</td>\n",
       "      <td>3.8</td>\n",
       "      <td>Evidera\\n3.8</td>\n",
       "      <td>Montreal</td>\n",
       "      <td>Bethesda, MD</td>\n",
       "      <td>501 to 1000 employees</td>\n",
       "      <td>2013</td>\n",
       "      <td>Subsidiary or Business Segment</td>\n",
       "      <td>Biotech &amp; Pharmaceuticals</td>\n",
       "      <td>...</td>\n",
       "      <td>139.0</td>\n",
       "      <td>Evidera\\n</td>\n",
       "      <td>Montreal</td>\n",
       "      <td>0</td>\n",
       "      <td>7</td>\n",
       "      <td>0</td>\n",
       "      <td>0</td>\n",
       "      <td>0</td>\n",
       "      <td>0</td>\n",
       "      <td>0</td>\n",
       "    </tr>\n",
       "    <tr>\n",
       "      <th>97</th>\n",
       "      <td>Data Analyst</td>\n",
       "      <td>CA$116K-CA$162K (Glassdoor Est.)</td>\n",
       "      <td>3.2</td>\n",
       "      <td>NCRI\\n3.2</td>\n",
       "      <td>Mississauga</td>\n",
       "      <td>Mississauga, Canada</td>\n",
       "      <td>1 to 50 employees</td>\n",
       "      <td>-1</td>\n",
       "      <td>Company - Private</td>\n",
       "      <td>Investment Banking &amp; Asset Management</td>\n",
       "      <td>...</td>\n",
       "      <td>139.0</td>\n",
       "      <td>NCRI\\n</td>\n",
       "      <td>Mississauga</td>\n",
       "      <td>0</td>\n",
       "      <td>-1</td>\n",
       "      <td>1</td>\n",
       "      <td>0</td>\n",
       "      <td>0</td>\n",
       "      <td>0</td>\n",
       "      <td>1</td>\n",
       "    </tr>\n",
       "    <tr>\n",
       "      <th>98</th>\n",
       "      <td>Data Analyst</td>\n",
       "      <td>CA$116K-CA$162K (Glassdoor Est.)</td>\n",
       "      <td>3.8</td>\n",
       "      <td>Systematix\\n3.8</td>\n",
       "      <td>Edmonton</td>\n",
       "      <td>Montréal, Canada</td>\n",
       "      <td>501 to 1000 employees</td>\n",
       "      <td>1975</td>\n",
       "      <td>Company - Private</td>\n",
       "      <td>Consulting</td>\n",
       "      <td>...</td>\n",
       "      <td>139.0</td>\n",
       "      <td>Systematix\\n</td>\n",
       "      <td>Edmonton</td>\n",
       "      <td>0</td>\n",
       "      <td>45</td>\n",
       "      <td>0</td>\n",
       "      <td>0</td>\n",
       "      <td>0</td>\n",
       "      <td>0</td>\n",
       "      <td>0</td>\n",
       "    </tr>\n",
       "    <tr>\n",
       "      <th>99</th>\n",
       "      <td>Data Scientist II</td>\n",
       "      <td>CA$116K-CA$162K (Glassdoor Est.)</td>\n",
       "      <td>3.9</td>\n",
       "      <td>Amazon\\n3.9</td>\n",
       "      <td>Vancouver</td>\n",
       "      <td>Seattle, WA</td>\n",
       "      <td>10000+ employees</td>\n",
       "      <td>1994</td>\n",
       "      <td>Company - Public</td>\n",
       "      <td>Internet</td>\n",
       "      <td>...</td>\n",
       "      <td>139.0</td>\n",
       "      <td>Amazon\\n</td>\n",
       "      <td>Vancouver</td>\n",
       "      <td>0</td>\n",
       "      <td>26</td>\n",
       "      <td>1</td>\n",
       "      <td>0</td>\n",
       "      <td>0</td>\n",
       "      <td>0</td>\n",
       "      <td>0</td>\n",
       "    </tr>\n",
       "  </tbody>\n",
       "</table>\n",
       "<p>100 rows × 27 columns</p>\n",
       "</div>"
      ],
      "text/plain": [
       "                                            Job Title  \\\n",
       "0                                Staff Data Scientist   \n",
       "1                                 Senior Data Analyst   \n",
       "2                                 Game Data Scientist   \n",
       "3                     Data Engineer/Backend Developer   \n",
       "4                                      Data Scientist   \n",
       "..                                                ...   \n",
       "95                                          Scientist   \n",
       "96  Senior Research Associate/Data Collection Cons...   \n",
       "97                                       Data Analyst   \n",
       "98                                       Data Analyst   \n",
       "99                                  Data Scientist II   \n",
       "\n",
       "                     Salary Estimate  Rating       Company Name     Location  \\\n",
       "0    CA$73K-CA$100K (Glassdoor Est.)     2.7   realtor.com\\n2.7    Vancouver   \n",
       "1    CA$73K-CA$100K (Glassdoor Est.)     3.4       Teranet\\n3.4      Toronto   \n",
       "2    CA$73K-CA$100K (Glassdoor Est.)     4.4  Prodigy Game\\n4.4     Oakville   \n",
       "3    CA$73K-CA$100K (Glassdoor Est.)    -1.0       Label Engine    Vancouver   \n",
       "4    CA$73K-CA$100K (Glassdoor Est.)     3.1    Home Trust\\n3.1      Toronto   \n",
       "..                               ...     ...                ...          ...   \n",
       "95  CA$116K-CA$162K (Glassdoor Est.)     4.1      SickKids\\n4.1      Toronto   \n",
       "96  CA$116K-CA$162K (Glassdoor Est.)     3.8       Evidera\\n3.8     Montreal   \n",
       "97  CA$116K-CA$162K (Glassdoor Est.)     3.2          NCRI\\n3.2  Mississauga   \n",
       "98  CA$116K-CA$162K (Glassdoor Est.)     3.8    Systematix\\n3.8     Edmonton   \n",
       "99  CA$116K-CA$162K (Glassdoor Est.)     3.9        Amazon\\n3.9    Vancouver   \n",
       "\n",
       "           Headquarters                     Size  Founded  \\\n",
       "0       Santa Clara, CA   1001 to 5000 employees     1993   \n",
       "1       Toronto, Canada    501 to 1000 employees     1991   \n",
       "2      Oakville, Canada     201 to 500 employees     2011   \n",
       "3       Los Angeles, CA      51 to 200 employees       -1   \n",
       "4       Toronto, Canada    501 to 1000 employees     1977   \n",
       "..                  ...                      ...      ...   \n",
       "95      Toronto, Canada  5001 to 10000 employees     1875   \n",
       "96         Bethesda, MD    501 to 1000 employees     2013   \n",
       "97  Mississauga, Canada        1 to 50 employees       -1   \n",
       "98     Montréal, Canada    501 to 1000 employees     1975   \n",
       "99          Seattle, WA         10000+ employees     1994   \n",
       "\n",
       "                 Type of ownership                               Industry  \\\n",
       "0                Company - Private                               Internet   \n",
       "1                Company - Private           Computer Hardware & Software   \n",
       "2                Company - Private           Computer Hardware & Software   \n",
       "3                Company - Private                                     -1   \n",
       "4                 Company - Public                                Lending   \n",
       "..                             ...                                    ...   \n",
       "95                Company - Public        Healthcare Services & Hospitals   \n",
       "96  Subsidiary or Business Segment              Biotech & Pharmaceuticals   \n",
       "97               Company - Private  Investment Banking & Asset Management   \n",
       "98               Company - Private                             Consulting   \n",
       "99                Company - Public                               Internet   \n",
       "\n",
       "    ... avg_salary     company_txt    job_state  same_state  age  python_yn  \\\n",
       "0   ...       86.5   realtor.com\\n    Vancouver           0   27          1   \n",
       "1   ...       86.5       Teranet\\n      Toronto           0   29          1   \n",
       "2   ...       86.5  Prodigy Game\\n     Oakville           0    9          1   \n",
       "3   ...       86.5    Label Engine    Vancouver           0   -1          1   \n",
       "4   ...       86.5    Home Trust\\n      Toronto           0   43          1   \n",
       "..  ...        ...             ...          ...         ...  ...        ...   \n",
       "95  ...      139.0      SickKids\\n      Toronto           0  145          0   \n",
       "96  ...      139.0       Evidera\\n     Montreal           0    7          0   \n",
       "97  ...      139.0          NCRI\\n  Mississauga           0   -1          1   \n",
       "98  ...      139.0    Systematix\\n     Edmonton           0   45          0   \n",
       "99  ...      139.0        Amazon\\n    Vancouver           0   26          1   \n",
       "\n",
       "    R_yn  spark aws excel  \n",
       "0      0      1   0     1  \n",
       "1      0      0   0     0  \n",
       "2      0      1   1     0  \n",
       "3      0      0   1     1  \n",
       "4      0      1   0     1  \n",
       "..   ...    ...  ..   ...  \n",
       "95     0      0   0     1  \n",
       "96     0      0   0     0  \n",
       "97     0      0   0     1  \n",
       "98     0      0   0     0  \n",
       "99     0      0   0     0  \n",
       "\n",
       "[100 rows x 27 columns]"
      ]
     },
     "execution_count": 38,
     "metadata": {},
     "output_type": "execute_result"
    }
   ],
   "source": [
    "pd.read_csv(r\"C:\\Users\\ERP80\\Documents\\ds_salary_proj\\salary_data_cleaned.csv\")"
   ]
  },
  {
   "cell_type": "code",
   "execution_count": null,
   "metadata": {},
   "outputs": [],
   "source": []
  },
  {
   "cell_type": "code",
   "execution_count": null,
   "metadata": {},
   "outputs": [],
   "source": []
  },
  {
   "cell_type": "code",
   "execution_count": null,
   "metadata": {},
   "outputs": [],
   "source": []
  }
 ],
 "metadata": {
  "kernelspec": {
   "display_name": "Python 3",
   "language": "python",
   "name": "python3"
  },
  "language_info": {
   "codemirror_mode": {
    "name": "ipython",
    "version": 3
   },
   "file_extension": ".py",
   "mimetype": "text/x-python",
   "name": "python",
   "nbconvert_exporter": "python",
   "pygments_lexer": "ipython3",
   "version": "3.7.6"
  }
 },
 "nbformat": 4,
 "nbformat_minor": 4
}
